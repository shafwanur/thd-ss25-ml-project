{
 "cells": [
  {
   "cell_type": "code",
   "execution_count": null,
   "id": "21a4c16a",
   "metadata": {},
   "outputs": [],
   "source": [
    "from pathlib import Path\n",
    "\n",
    "import numpy as np\n",
    "import pandas as pd\n",
    "\n",
    "%load_ext autoreload\n",
    "%autoreload 2\n",
    "\n",
    "import ml_project.data as d\n",
    "import ml_project.helpers as h"
   ]
  },
  {
   "cell_type": "code",
   "execution_count": 2,
   "id": "a714b7e6",
   "metadata": {},
   "outputs": [],
   "source": [
    "ds = d.Dataset(Path(\"../data/15s.arff\"))"
   ]
  },
  {
   "cell_type": "code",
   "execution_count": null,
   "id": "94d24556",
   "metadata": {},
   "outputs": [
    {
     "name": "stdout",
     "output_type": "stream",
     "text": [
      "Test accuracy: 0.8115743280307186\n"
     ]
    },
    {
     "data": {
      "text/plain": [
       "[None]"
      ]
     },
     "execution_count": 50,
     "metadata": {},
     "output_type": "execute_result"
    }
   ],
   "source": [
    "import pickle\n",
    "from pickle import dump\n",
    "\n",
    "from sklearn.ensemble import RandomForestClassifier  \n",
    "from sklearn.metrics import accuracy_score\n",
    "from sklearn.model_selection import train_test_split\n",
    "\n",
    "def try_rf(df):\n",
    "    X = df.drop(columns=\"cls\")\n",
    "    y = df[\"cls\"]\n",
    "\n",
    "    # Train-test split\n",
    "    X_train, X_test, y_train, y_test = train_test_split(X, y, test_size=0.2, random_state=69)\n",
    "\n",
    "    # Random Forest with all its default (hyper)parameters \n",
    "    clf = RandomForestClassifier(\n",
    "        n_estimators=200,\n",
    "        criterion='entropy',\n",
    "        max_depth=None,\n",
    "        min_samples_split=2,\n",
    "        min_samples_leaf=1,\n",
    "        min_weight_fraction_leaf=0.0,\n",
    "        max_features='sqrt',\n",
    "        max_leaf_nodes=None,\n",
    "        min_impurity_decrease=0.0,\n",
    "        bootstrap=True,\n",
    "        oob_score=False,\n",
    "        n_jobs=None,\n",
    "        random_state=None,\n",
    "        verbose=0,\n",
    "        warm_start=False,\n",
    "        class_weight=None,\n",
    "        ccp_alpha=0.0,\n",
    "        max_samples=None,\n",
    "        monotonic_cst=None\n",
    "    )\n",
    "    clf.fit(X_train, y_train)\n",
    "\n",
    "    # Persist the model\n",
    "    with open(\"rf.pkl\", \"wb\") as f:\n",
    "        dump(clf, f, protocol=pickle.HIGHEST_PROTOCOL) # pickle.HIGHEST_PROTOCOL equals 5 as of python 3.8 and later. Using protocol=5 is recommended to reduce memory usage and make it faster to store and load any large NumPy array stored as a fitted attribute in the model. Source: scikit-learn docs.\n",
    "\n",
    "    # Predict and calculate accuracy\n",
    "    y_pred = clf.predict(X_test)\n",
    "    accuracy = accuracy_score(y_test, y_pred)\n",
    "\n",
    "    print(\"Test accuracy:\", accuracy)\n",
    "\n",
    "[try_rf(ds.flagged) for _ in range(1)]"
   ]
  },
  {
   "cell_type": "code",
   "execution_count": 48,
   "id": "ca179100",
   "metadata": {},
   "outputs": [
    {
     "name": "stdout",
     "output_type": "stream",
     "text": [
      "[0.61930883 0.69657064 0.67901235 0.68916324 0.5138546 ]\n",
      "0.64 accuracy with a standard deviation of 0.07\n"
     ]
    }
   ],
   "source": [
    "# Cross-validation results\n",
    "\n",
    "from sklearn.model_selection import cross_val_score\n",
    "\n",
    "df = ds.flagged\n",
    "X = df.drop(columns=\"cls\")\n",
    "y = df[\"cls\"]\n",
    "\n",
    "clf = RandomForestClassifier()\n",
    "scores = cross_val_score(clf, X, y, cv=5)\n",
    "print(scores)\n",
    "print(\"%0.2f accuracy with a standard deviation of %0.2f\" % (scores.mean(), scores.std()))"
   ]
  },
  {
   "cell_type": "markdown",
   "id": "643b548e",
   "metadata": {},
   "source": [
    "<b><i>TODO:</i></b><br>\n",
    "It's interesting that the accuracy drops this much between using a 80-20 train/test split and a cross-validation with 5 folds (meaning, each fold takes 20% of the dataset). \n",
    "\n",
    "This might indicate that the dataset is (heavily) unbalanced? What other explanations are there? "
   ]
  },
  {
   "cell_type": "markdown",
   "id": "f20dc7b5",
   "metadata": {},
   "source": [
    "<b><i>TODO:</b></i><br>\n",
    "For Random Forests, play around with the OOB score, as it enables us to not necessarily require a validation set and skip cross-validation as a whole. \n",
    "\n",
    "Source: https://scikit-learn.org/stable/modules/grid_search.html#out-of-bag-estimates"
   ]
  }
 ],
 "metadata": {
  "kernelspec": {
   "display_name": ".venv",
   "language": "python",
   "name": "python3"
  },
  "language_info": {
   "codemirror_mode": {
    "name": "ipython",
    "version": 3
   },
   "file_extension": ".py",
   "mimetype": "text/x-python",
   "name": "python",
   "nbconvert_exporter": "python",
   "pygments_lexer": "ipython3",
   "version": "3.13.5"
  }
 },
 "nbformat": 4,
 "nbformat_minor": 5
}
