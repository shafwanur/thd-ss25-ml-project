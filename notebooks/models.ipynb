{
 "cells": [
  {
   "cell_type": "code",
   "execution_count": 2,
   "id": "21a4c16a",
   "metadata": {},
   "outputs": [],
   "source": [
    "from pathlib import Path\n",
    "\n",
    "import numpy as np\n",
    "import pandas as pd\n",
    "\n",
    "%load_ext autoreload\n",
    "%autoreload 2\n",
    "\n",
    "import ml_project.data as d\n",
    "import ml_project.helpers as h"
   ]
  },
  {
   "cell_type": "code",
   "execution_count": 2,
   "id": "a714b7e6",
   "metadata": {},
   "outputs": [],
   "source": [
    "ds = d.Dataset(Path(\"../data/15s.arff\"))"
   ]
  },
  {
   "cell_type": "code",
   "execution_count": null,
   "id": "94d24556",
   "metadata": {},
   "outputs": [
    {
     "name": "stdout",
     "output_type": "stream",
     "text": [
      "accuracy=0.8084265964450297\n",
      "              precision    recall  f1-score   support\n",
      "\n",
      "           1       0.79      0.67      0.73       712\n",
      "           2       0.59      0.73      0.65       190\n",
      "           3       0.65      0.77      0.70        98\n",
      "           4       0.65      0.79      0.71        57\n",
      "           5       0.99      0.99      0.99       688\n",
      "           6       0.92      0.90      0.91       251\n",
      "           7       0.79      0.89      0.84       203\n",
      "           8       0.99      0.98      0.99       592\n",
      "           9       0.62      0.61      0.61       285\n",
      "          10       0.89      0.80      0.84       124\n",
      "          11       0.75      0.77      0.76       482\n",
      "          12       0.71      0.72      0.72       578\n",
      "          13       0.66      0.79      0.72       162\n",
      "          14       0.76      0.63      0.69       135\n",
      "\n",
      "    accuracy                           0.81      4557\n",
      "   macro avg       0.77      0.79      0.78      4557\n",
      "weighted avg       0.81      0.81      0.81      4557\n",
      "\n"
     ]
    },
    {
     "data": {
      "text/plain": [
       "'\\naccuracy=0.8035988588983981\\n              precision    recall  f1-score   support\\n\\n           1       0.78      0.67      0.72       702\\n           2       0.59      0.70      0.64       195\\n           3       0.70      0.77      0.74       105\\n           4       0.68      0.76      0.72        62\\n           5       0.99      0.99      0.99       687\\n           6       0.91      0.89      0.90       251\\n           7       0.80      0.88      0.84       208\\n           8       0.99      0.98      0.98       594\\n           9       0.58      0.58      0.58       283\\n          10       0.90      0.81      0.85       124\\n          11       0.74      0.77      0.76       475\\n          12       0.71      0.72      0.71       577\\n          13       0.63      0.77      0.70       159\\n          14       0.75      0.62      0.68       135\\n\\n    accuracy                           0.80      4557\\n   macro avg       0.77      0.78      0.77      4557\\nweighted avg       0.81      0.80      0.80      4557\\n'"
      ]
     },
     "execution_count": 63,
     "metadata": {},
     "output_type": "execute_result"
    }
   ],
   "source": [
    "import pickle\n",
    "\n",
    "from sklearn.ensemble import RandomForestClassifier  \n",
    "from sklearn.metrics import accuracy_score\n",
    "from sklearn.metrics import classification_report\n",
    "from sklearn.model_selection import train_test_split\n",
    "\n",
    "df = ds.flagged\n",
    "\n",
    "X = df.drop(columns=\"cls\")\n",
    "y = df[\"cls\"]\n",
    "\n",
    "# Train-test split\n",
    "X_train, X_test, y_train, y_test = train_test_split(X, y, test_size=0.25, random_state=69)\n",
    "\n",
    "# Random Forest with all its default (hyper)parameters \n",
    "clf = RandomForestClassifier(max_depth=100, min_samples_split=5, n_estimators=800)\n",
    "clf.fit(X_train, y_train)\n",
    "\n",
    "# Persist the model\n",
    "with open(\"rf.pkl\", \"wb\") as f:\n",
    "    pickle.dump(clf, f, protocol=pickle.HIGHEST_PROTOCOL) # pickle.HIGHEST_PROTOCOL equals 5 (python>=3.8). Using protocol=5 is recommended to reduce memory usage and make it faster to store and load any large NumPy array stored as a fitted attribute in the model. Source: scikit-learn docs.\n",
    "\n",
    "# Predict and calculate accuracy\n",
    "y_pred = clf.predict(X_test)\n",
    "accuracy = accuracy_score(y_test, y_pred)\n",
    "\n",
    "print(f\"{accuracy=}\")\n",
    "print(classification_report(y_pred, y_test))\n",
    "\n",
    "'''\n",
    "accuracy=0.8035988588983981\n",
    "              precision    recall  f1-score   support\n",
    "\n",
    "           1       0.78      0.67      0.72       702\n",
    "           2       0.59      0.70      0.64       195\n",
    "           3       0.70      0.77      0.74       105\n",
    "           4       0.68      0.76      0.72        62\n",
    "           5       0.99      0.99      0.99       687\n",
    "           6       0.91      0.89      0.90       251\n",
    "           7       0.80      0.88      0.84       208\n",
    "           8       0.99      0.98      0.98       594\n",
    "           9       0.58      0.58      0.58       283\n",
    "          10       0.90      0.81      0.85       124\n",
    "          11       0.74      0.77      0.76       475\n",
    "          12       0.71      0.72      0.71       577\n",
    "          13       0.63      0.77      0.70       159\n",
    "          14       0.75      0.62      0.68       135\n",
    "\n",
    "    accuracy                           0.80      4557\n",
    "   macro avg       0.77      0.78      0.77      4557\n",
    "weighted avg       0.81      0.80      0.80      4557\n",
    "'''"
   ]
  },
  {
   "cell_type": "code",
   "execution_count": 57,
   "id": "ca179100",
   "metadata": {},
   "outputs": [
    {
     "name": "stdout",
     "output_type": "stream",
     "text": [
      "[0.61601755 0.69190672 0.67654321 0.69410151 0.51632373]\n",
      "0.64 accuracy with a standard deviation of 0.07\n"
     ]
    }
   ],
   "source": [
    "# Cross-validation results\n",
    "\n",
    "from sklearn.model_selection import cross_val_score\n",
    "\n",
    "clf = RandomForestClassifier()\n",
    "scores = cross_val_score(clf, X, y, cv=5)\n",
    "print(scores)\n",
    "print(\"%0.2f accuracy with a standard deviation of %0.2f\" % (scores.mean(), scores.std()))"
   ]
  },
  {
   "cell_type": "markdown",
   "id": "643b548e",
   "metadata": {},
   "source": [
    "<b><i>TODO:</i></b><br>\n",
    "It's interesting that the accuracy drops this much between using a 80-20 train/test split and a cross-validation with 5 folds (meaning, each fold takes 20% of the dataset). \n",
    "\n",
    "This might indicate that the dataset is (heavily) unbalanced? What other explanations are there? "
   ]
  },
  {
   "cell_type": "markdown",
   "id": "f20dc7b5",
   "metadata": {},
   "source": [
    "<b><i>TODO:</b></i><br>\n",
    "For Random Forests, play around with the OOB score, as it enables us to not necessarily require a validation set and skip cross-validation as a whole. \n",
    "\n",
    "Source: https://scikit-learn.org/stable/modules/grid_search.html#out-of-bag-estimates"
   ]
  },
  {
   "cell_type": "code",
   "execution_count": null,
   "id": "f41df7d7",
   "metadata": {},
   "outputs": [
    {
     "name": "stdout",
     "output_type": "stream",
     "text": [
      "Best Parameters: {'bootstrap': True, 'max_depth': 10, 'min_samples_leaf': 2, 'min_samples_split': 2, 'n_estimators': 200}\n",
      "Best Estimator: RandomForestClassifier(max_depth=10, min_samples_leaf=2, n_estimators=200)\n"
     ]
    }
   ],
   "source": [
    "# Grid Search: could theoretically be done, but the best bet is probably doing a randomized search. Because here, how do you define what set of parameters work the best? \n",
    "from sklearn.model_selection import GridSearchCV\n",
    "from sklearn.ensemble import RandomForestClassifier\n",
    "\n",
    "# Random parameters selected just to make the point of how Grid Search in scikit-learn works. The results from this search are not relevant. \n",
    "param_grid = {\n",
    "    'n_estimators': [100, 200, 300], # 3\n",
    "    'max_depth': [10, 2, 1], # 3\n",
    "    'min_samples_split': [2, 3], #  2\n",
    "    'min_samples_leaf': [2, 3],\n",
    "    'bootstrap': [True]\n",
    "}\n",
    "\n",
    "grid_search = GridSearchCV(RandomForestClassifier(), param_grid=param_grid, cv=5)\n",
    "grid_search.fit(X_train, y_train)\n",
    "\n",
    "print(\"Best Parameters:\", grid_search.best_params_)\n",
    "print(\"Best Estimator:\", grid_search.best_estimator_)"
   ]
  },
  {
   "cell_type": "code",
   "execution_count": 3,
   "id": "67eccd24",
   "metadata": {},
   "outputs": [
    {
     "name": "stdout",
     "output_type": "stream",
     "text": [
      "{'n_estimators': [200, 400, 600, 800, 1000, 1200, 1400, 1600, 1800, 2000], 'max_features': ['auto', 'sqrt'], 'max_depth': [10, 20, 30, 40, 50, 60, 70, 80, 90, 100, 110, None], 'min_samples_split': [2, 5, 10], 'min_samples_leaf': [1, 2, 4], 'bootstrap': [True, False]}\n"
     ]
    },
    {
     "ename": "NameError",
     "evalue": "name 'RandomForestClassifier' is not defined",
     "output_type": "error",
     "traceback": [
      "\u001b[31m---------------------------------------------------------------------------\u001b[39m",
      "\u001b[31mNameError\u001b[39m                                 Traceback (most recent call last)",
      "\u001b[36mCell\u001b[39m\u001b[36m \u001b[39m\u001b[32mIn[3]\u001b[39m\u001b[32m, line 27\u001b[39m\n\u001b[32m     23\u001b[39m \u001b[38;5;28mprint\u001b[39m(random_grid)\n\u001b[32m     25\u001b[39m \u001b[38;5;66;03m# Use the random grid to search for best hyperparameters\u001b[39;00m\n\u001b[32m     26\u001b[39m \u001b[38;5;66;03m# First create the base model to tune\u001b[39;00m\n\u001b[32m---> \u001b[39m\u001b[32m27\u001b[39m rf = \u001b[43mRandomForestClassifier\u001b[49m()\n\u001b[32m     28\u001b[39m \u001b[38;5;66;03m# Random search of parameters, using 3 fold cross validation, \u001b[39;00m\n\u001b[32m     29\u001b[39m \u001b[38;5;66;03m# search across 100 different combinations, and use all available cores\u001b[39;00m\n\u001b[32m     30\u001b[39m rf_random = RandomizedSearchCV(estimator = rf, param_distributions = random_grid, n_iter = \u001b[32m100\u001b[39m, cv = \u001b[32m3\u001b[39m, verbose=\u001b[32m2\u001b[39m, random_state=\u001b[32m23\u001b[39m, n_jobs = -\u001b[32m1\u001b[39m)\n",
      "\u001b[31mNameError\u001b[39m: name 'RandomForestClassifier' is not defined"
     ]
    }
   ],
   "source": [
    "from sklearn.model_selection import RandomizedSearchCV\n",
    "\n",
    "# Number of trees in random forest\n",
    "n_estimators = [int(x) for x in np.linspace(start = 200, stop = 2000, num = 10)]\n",
    "# Number of features to consider at every split\n",
    "max_features = ['auto', 'sqrt']\n",
    "# Maximum number of levels in tree\n",
    "max_depth = [int(x) for x in np.linspace(10, 110, num = 11)]\n",
    "max_depth.append(None)\n",
    "# Minimum number of samples required to split a node\n",
    "min_samples_split = [2, 5, 10]\n",
    "# Minimum number of samples required at each leaf node\n",
    "min_samples_leaf = [1, 2, 4]\n",
    "# Method of selecting samples for training each tree\n",
    "bootstrap = [True, False]\n",
    "# Create the random grid\n",
    "random_grid = {'n_estimators': n_estimators,\n",
    "               'max_features': max_features,\n",
    "               'max_depth': max_depth,\n",
    "               'min_samples_split': min_samples_split,\n",
    "               'min_samples_leaf': min_samples_leaf,\n",
    "               'bootstrap': bootstrap}\n",
    "print(random_grid)\n",
    "\n",
    "# Use the random grid to search for best hyperparameters\n",
    "# First create the base model to tune\n",
    "rf = RandomForestClassifier()\n",
    "# Random search of parameters, using 3 fold cross validation, \n",
    "# search across 100 different combinations, and use all available cores\n",
    "rf_random = RandomizedSearchCV(estimator = rf, param_distributions = random_grid, n_iter = 100, cv = 3, verbose=2, random_state=23, n_jobs = -1)\n",
    "# Fit the random search model\n",
    "rf_random.fit(X_train, y_train)"
   ]
  },
  {
   "cell_type": "code",
   "execution_count": null,
   "id": "a1e2f6a6",
   "metadata": {},
   "outputs": [],
   "source": []
  }
 ],
 "metadata": {
  "kernelspec": {
   "display_name": ".venv",
   "language": "python",
   "name": "python3"
  },
  "language_info": {
   "codemirror_mode": {
    "name": "ipython",
    "version": 3
   },
   "file_extension": ".py",
   "mimetype": "text/x-python",
   "name": "python",
   "nbconvert_exporter": "python",
   "pygments_lexer": "ipython3",
   "version": "3.13.5"
  }
 },
 "nbformat": 4,
 "nbformat_minor": 5
}
