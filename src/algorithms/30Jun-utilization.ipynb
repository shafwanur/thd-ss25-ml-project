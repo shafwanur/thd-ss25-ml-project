{
 "cells": [
  {
   "cell_type": "code",
   "execution_count": 65,
   "id": "dae2f0d1",
   "metadata": {},
   "outputs": [],
   "source": [
    "import numpy as np\n",
    "import pandas as pd\n",
    "from scipy.io import arff\n",
    "import matplotlib.pyplot as plt\n",
    "\n",
    "from sklearn import svm\n",
    "from sklearn.tree import DecisionTreeClassifier     \n",
    "from sklearn.preprocessing import StandardScaler\n",
    "from sklearn.neighbors import KNeighborsClassifier\n",
    "from sklearn.model_selection import cross_val_score"
   ]
  },
  {
   "cell_type": "code",
   "execution_count": 66,
   "id": "35b55812",
   "metadata": {},
   "outputs": [],
   "source": [
    "# Load flagged dataset #\n",
    "dataset_flagged = pd.read_csv(\"flagged.csv\")\n",
    "X_flagged_unscaled = dataset_flagged.drop(['cls'], axis=1)\n",
    "Y_flagged = dataset_flagged['cls']\n",
    "\n",
    "# Load original dataset #\n",
    "dataset_original = arff.loadarff(\"15s.arff\")\n",
    "dataset_original = pd.DataFrame(dataset_original[0])\n",
    "dataset_original[\"class1\"] = dataset_original[\"class1\"].str.decode('utf-8')\n",
    "X_original_unscaled = dataset_original.drop(['class1'], axis=1)\n",
    "Y_original = dataset_original['class1']\n",
    "\n",
    "# Creating model dictionary #\n",
    "models = {\n",
    "    'Tree': DecisionTreeClassifier(random_state=1),\n",
    "    'SVM': svm.SVC(),\n",
    "    'KNN': KNeighborsClassifier(n_neighbors=5),\n",
    "}"
   ]
  },
  {
   "cell_type": "markdown",
   "id": "cf3c3e69",
   "metadata": {},
   "source": [
    "We will be using cross-validation. "
   ]
  },
  {
   "cell_type": "code",
   "execution_count": 67,
   "id": "ca9cfcb5",
   "metadata": {},
   "outputs": [
    {
     "data": {
      "text/html": [
       "<div>\n",
       "<style scoped>\n",
       "    .dataframe tbody tr th:only-of-type {\n",
       "        vertical-align: middle;\n",
       "    }\n",
       "\n",
       "    .dataframe tbody tr th {\n",
       "        vertical-align: top;\n",
       "    }\n",
       "\n",
       "    .dataframe thead th {\n",
       "        text-align: right;\n",
       "    }\n",
       "</style>\n",
       "<table border=\"1\" class=\"dataframe\">\n",
       "  <thead>\n",
       "    <tr style=\"text-align: right;\">\n",
       "      <th></th>\n",
       "      <th>Max Value</th>\n",
       "    </tr>\n",
       "  </thead>\n",
       "  <tbody>\n",
       "    <tr>\n",
       "      <th>duration</th>\n",
       "      <td>601404954.0</td>\n",
       "    </tr>\n",
       "    <tr>\n",
       "      <th>total_fiat</th>\n",
       "      <td>37680787.0</td>\n",
       "    </tr>\n",
       "    <tr>\n",
       "      <th>total_biat</th>\n",
       "      <td>43002377.0</td>\n",
       "    </tr>\n",
       "    <tr>\n",
       "      <th>min_fiat</th>\n",
       "      <td>303595747.0</td>\n",
       "    </tr>\n",
       "    <tr>\n",
       "      <th>min_biat</th>\n",
       "      <td>600109667.0</td>\n",
       "    </tr>\n",
       "    <tr>\n",
       "      <th>max_fiat</th>\n",
       "      <td>152000000.0</td>\n",
       "    </tr>\n",
       "    <tr>\n",
       "      <th>max_biat</th>\n",
       "      <td>43000000.0</td>\n",
       "    </tr>\n",
       "    <tr>\n",
       "      <th>mean_fiat</th>\n",
       "      <td>215000000.0</td>\n",
       "    </tr>\n",
       "    <tr>\n",
       "      <th>mean_biat</th>\n",
       "      <td>98000000.0</td>\n",
       "    </tr>\n",
       "    <tr>\n",
       "      <th>flowPktsPerSecond</th>\n",
       "      <td>1000000.0</td>\n",
       "    </tr>\n",
       "    <tr>\n",
       "      <th>flowBytesPerSecond</th>\n",
       "      <td>617000000.0</td>\n",
       "    </tr>\n",
       "    <tr>\n",
       "      <th>min_flowiat</th>\n",
       "      <td>18919905.0</td>\n",
       "    </tr>\n",
       "    <tr>\n",
       "      <th>max_flowiat</th>\n",
       "      <td>600109654.0</td>\n",
       "    </tr>\n",
       "    <tr>\n",
       "      <th>mean_flowiat</th>\n",
       "      <td>60700000.0</td>\n",
       "    </tr>\n",
       "    <tr>\n",
       "      <th>std_flowiat</th>\n",
       "      <td>136000000.0</td>\n",
       "    </tr>\n",
       "    <tr>\n",
       "      <th>min_active</th>\n",
       "      <td>601404954.0</td>\n",
       "    </tr>\n",
       "    <tr>\n",
       "      <th>mean_active</th>\n",
       "      <td>601000000.0</td>\n",
       "    </tr>\n",
       "    <tr>\n",
       "      <th>max_active</th>\n",
       "      <td>601404954.0</td>\n",
       "    </tr>\n",
       "    <tr>\n",
       "      <th>std_active</th>\n",
       "      <td>168000000.0</td>\n",
       "    </tr>\n",
       "    <tr>\n",
       "      <th>min_idle</th>\n",
       "      <td>600109654.0</td>\n",
       "    </tr>\n",
       "    <tr>\n",
       "      <th>mean_idle</th>\n",
       "      <td>600000000.0</td>\n",
       "    </tr>\n",
       "    <tr>\n",
       "      <th>max_idle</th>\n",
       "      <td>600109654.0</td>\n",
       "    </tr>\n",
       "    <tr>\n",
       "      <th>std_idle</th>\n",
       "      <td>168000000.0</td>\n",
       "    </tr>\n",
       "  </tbody>\n",
       "</table>\n",
       "</div>"
      ],
      "text/plain": [
       "                      Max Value\n",
       "duration            601404954.0\n",
       "total_fiat           37680787.0\n",
       "total_biat           43002377.0\n",
       "min_fiat            303595747.0\n",
       "min_biat            600109667.0\n",
       "max_fiat            152000000.0\n",
       "max_biat             43000000.0\n",
       "mean_fiat           215000000.0\n",
       "mean_biat            98000000.0\n",
       "flowPktsPerSecond     1000000.0\n",
       "flowBytesPerSecond  617000000.0\n",
       "min_flowiat          18919905.0\n",
       "max_flowiat         600109654.0\n",
       "mean_flowiat         60700000.0\n",
       "std_flowiat         136000000.0\n",
       "min_active          601404954.0\n",
       "mean_active         601000000.0\n",
       "max_active          601404954.0\n",
       "std_active          168000000.0\n",
       "min_idle            600109654.0\n",
       "mean_idle           600000000.0\n",
       "max_idle            600109654.0\n",
       "std_idle            168000000.0"
      ]
     },
     "metadata": {},
     "output_type": "display_data"
    }
   ],
   "source": [
    "display(X_original_unscaled.max(axis=0).to_frame(name='Max Value'))"
   ]
  },
  {
   "cell_type": "code",
   "execution_count": 68,
   "id": "dd131192",
   "metadata": {},
   "outputs": [
    {
     "data": {
      "text/html": [
       "<div>\n",
       "<style scoped>\n",
       "    .dataframe tbody tr th:only-of-type {\n",
       "        vertical-align: middle;\n",
       "    }\n",
       "\n",
       "    .dataframe tbody tr th {\n",
       "        vertical-align: top;\n",
       "    }\n",
       "\n",
       "    .dataframe thead th {\n",
       "        text-align: right;\n",
       "    }\n",
       "</style>\n",
       "<table border=\"1\" class=\"dataframe\">\n",
       "  <thead>\n",
       "    <tr style=\"text-align: right;\">\n",
       "      <th></th>\n",
       "      <th>Max Value</th>\n",
       "    </tr>\n",
       "  </thead>\n",
       "  <tbody>\n",
       "    <tr>\n",
       "      <th>Unnamed: 0</th>\n",
       "      <td>18757.0</td>\n",
       "    </tr>\n",
       "    <tr>\n",
       "      <th>duration</th>\n",
       "      <td>601404954.0</td>\n",
       "    </tr>\n",
       "    <tr>\n",
       "      <th>pps</th>\n",
       "      <td>1000000.0</td>\n",
       "    </tr>\n",
       "    <tr>\n",
       "      <th>bps</th>\n",
       "      <td>617000000.0</td>\n",
       "    </tr>\n",
       "    <tr>\n",
       "      <th>max_flowiat</th>\n",
       "      <td>600109654.0</td>\n",
       "    </tr>\n",
       "    <tr>\n",
       "      <th>mean_flowiat</th>\n",
       "      <td>60700000.0</td>\n",
       "    </tr>\n",
       "    <tr>\n",
       "      <th>has_active</th>\n",
       "      <td>1.0</td>\n",
       "    </tr>\n",
       "    <tr>\n",
       "      <th>has_std_active</th>\n",
       "      <td>1.0</td>\n",
       "    </tr>\n",
       "    <tr>\n",
       "      <th>has_fiat</th>\n",
       "      <td>1.0</td>\n",
       "    </tr>\n",
       "    <tr>\n",
       "      <th>has_biat</th>\n",
       "      <td>1.0</td>\n",
       "    </tr>\n",
       "    <tr>\n",
       "      <th>has_min_flowiat</th>\n",
       "      <td>1.0</td>\n",
       "    </tr>\n",
       "    <tr>\n",
       "      <th>has_std_flowiat</th>\n",
       "      <td>1.0</td>\n",
       "    </tr>\n",
       "    <tr>\n",
       "      <th>has_mean_fiat</th>\n",
       "      <td>1.0</td>\n",
       "    </tr>\n",
       "    <tr>\n",
       "      <th>has_mean_biat</th>\n",
       "      <td>1.0</td>\n",
       "    </tr>\n",
       "  </tbody>\n",
       "</table>\n",
       "</div>"
      ],
      "text/plain": [
       "                   Max Value\n",
       "Unnamed: 0           18757.0\n",
       "duration         601404954.0\n",
       "pps                1000000.0\n",
       "bps              617000000.0\n",
       "max_flowiat      600109654.0\n",
       "mean_flowiat      60700000.0\n",
       "has_active               1.0\n",
       "has_std_active           1.0\n",
       "has_fiat                 1.0\n",
       "has_biat                 1.0\n",
       "has_min_flowiat          1.0\n",
       "has_std_flowiat          1.0\n",
       "has_mean_fiat            1.0\n",
       "has_mean_biat            1.0"
      ]
     },
     "metadata": {},
     "output_type": "display_data"
    }
   ],
   "source": [
    "display(X_flagged_unscaled.max(axis=0).to_frame(name='Max Value'))"
   ]
  },
  {
   "cell_type": "markdown",
   "id": "3bba98f9",
   "metadata": {},
   "source": [
    "Looking above, we notice that the data is horribly scaled. We will use the StandardScaler to normalize everything before training any of the models."
   ]
  },
  {
   "cell_type": "code",
   "execution_count": 69,
   "id": "b8c13d04",
   "metadata": {},
   "outputs": [],
   "source": [
    "scaler = StandardScaler()\n",
    "X_original_scaled = scaler.fit_transform(X_original_unscaled)\n",
    "X_flagged_scaled = scaler.fit_transform(X_flagged_unscaled)"
   ]
  },
  {
   "cell_type": "markdown",
   "id": "43bff6ef",
   "metadata": {},
   "source": [
    "We will attempt to train with both unscaled and scaled data."
   ]
  },
  {
   "cell_type": "code",
   "execution_count": 75,
   "id": "253f0288",
   "metadata": {},
   "outputs": [],
   "source": [
    "# Calculate accuracy for unscaled datasets #\n",
    "scores_original_unscaled = {}\n",
    "for name, model in models.items():\n",
    "    score_original = cross_val_score(model, X_original_unscaled, Y_original, cv=10).mean()\n",
    "    scores_original_unscaled[name] = score_original"
   ]
  },
  {
   "cell_type": "code",
   "execution_count": 76,
   "id": "42c77dc4",
   "metadata": {},
   "outputs": [],
   "source": [
    "scores_flagged_unscaled = {}\n",
    "for name, model in models.items():\n",
    "    score_flagged = cross_val_score(model, X_flagged_unscaled, Y_flagged, cv=10).mean()\n",
    "    scores_flagged_unscaled[name] = score_flagged"
   ]
  },
  {
   "cell_type": "code",
   "execution_count": 77,
   "id": "835a08f8",
   "metadata": {},
   "outputs": [
    {
     "data": {
      "image/png": "[encoded data removed]",
      "text/plain": [
       "<Figure size 1200x500 with 2 Axes>"
      ]
     },
     "metadata": {},
     "output_type": "display_data"
    }
   ],
   "source": [
    "# Plotting the results of unscaled datasets #\n",
    "fig, (ax1_unscaled, ax2_unscaled) = plt.subplots(nrows=1, ncols=2, figsize=(12, 5))\n",
    "ax1_unscaled.bar(list(scores_flagged_unscaled.keys()), list(scores_flagged_unscaled.values()))\n",
    "ax1_unscaled.set_title(\"Flagged Dataset\")\n",
    "ax1_unscaled.set_xlabel(\"Algorithms\")\n",
    "ax1_unscaled.set_ylabel(\"Accuracy\")\n",
    "\n",
    "ax2_unscaled.bar(list(scores_original_unscaled.keys()), list(scores_original_unscaled.values()))\n",
    "ax2_unscaled.set_title(\"Original Dataset\")\n",
    "ax2_unscaled.set_xlabel(\"Algorithms\")\n",
    "plt.show()"
   ]
  },
  {
   "cell_type": "code",
   "execution_count": 72,
   "id": "481ae44b",
   "metadata": {},
   "outputs": [],
   "source": [
    "# Calculate accuracy for scaled datasets #\n",
    "scores_flagged_scaled = {}\n",
    "scores_original_scaled = {}\n",
    "for name, model in models.items():\n",
    "    score_flagged = cross_val_score(model, X_flagged_scaled, Y_flagged, cv=10).mean()\n",
    "    score_original = cross_val_score(model, X_original_scaled, Y_original, cv=10).mean()\n",
    "    scores_original_scaled[name] = score_original\n",
    "    scores_flagged_scaled[name] = score_flagged\n"
   ]
  },
  {
   "cell_type": "code",
   "execution_count": 73,
   "id": "dfaf754c",
   "metadata": {},
   "outputs": [
    {
     "data": {
      "image/png": "[encoded data removed]",
      "text/plain": [
       "<Figure size 1200x500 with 2 Axes>"
      ]
     },
     "metadata": {},
     "output_type": "display_data"
    }
   ],
   "source": [
    "# Plotting the results of scaled dataset. #\n",
    "fig, (ax1_scaled, ax2_scaled) = plt.subplots(nrows=1, ncols=2, figsize=(12, 5))\n",
    "\n",
    "ax1_scaled.bar(list(scores_flagged_scaled.keys()), list(scores_flagged_scaled.values()))\n",
    "ax1_scaled.set_title(\"Flagged Dataset\")\n",
    "ax1_scaled.set_xlabel(\"Algorithms\")\n",
    "ax1_scaled.set_ylabel(\"Accuracy\")\n",
    "\n",
    "ax2_scaled.bar(list(scores_original_scaled.keys()), list(scores_original_scaled.values()))\n",
    "ax2_scaled.set_title(\"Original Dataset\")\n",
    "ax2_scaled.set_xlabel(\"Algorithms\")\n",
    "plt.show()"
   ]
  },
  {
   "cell_type": "markdown",
   "id": "93cafbe6",
   "metadata": {},
   "source": [
    "We can see major improvement for both SVM and KNN, for the flagged dataset, after having scaled the data."
   ]
  }
 ],
 "metadata": {
  "kernelspec": {
   "display_name": "venv",
   "language": "python",
   "name": "python3"
  },
  "language_info": {
   "codemirror_mode": {
    "name": "ipython",
    "version": 3
   },
   "file_extension": ".py",
   "mimetype": "text/x-python",
   "name": "python",
   "nbconvert_exporter": "python",
   "pygments_lexer": "ipython3",
   "version": "3.11.2"
  }
 },
 "nbformat": 4,
 "nbformat_minor": 5
}
